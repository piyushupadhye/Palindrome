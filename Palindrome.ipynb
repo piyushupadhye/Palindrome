{
 "cells": [
  {
   "cell_type": "code",
   "execution_count": 32,
   "id": "fa658d0c",
   "metadata": {},
   "outputs": [
    {
     "name": "stdout",
     "output_type": "stream",
     "text": [
      "Palindrome\n"
     ]
    }
   ],
   "source": [
    "x=num=5665\n",
    "y=0\n",
    "while x!=0:\n",
    "    digit=x%10\n",
    "    x=x//10\n",
    "    y=y*10+digit\n",
    "if y==num:\n",
    "    print('Palindrome')\n",
    "else:\n",
    "    print('Not a Palindrome ')"
   ]
  }
 ],
 "metadata": {
  "kernelspec": {
   "display_name": "Python 3 (ipykernel)",
   "language": "python",
   "name": "python3"
  },
  "language_info": {
   "codemirror_mode": {
    "name": "ipython",
    "version": 3
   },
   "file_extension": ".py",
   "mimetype": "text/x-python",
   "name": "python",
   "nbconvert_exporter": "python",
   "pygments_lexer": "ipython3",
   "version": "3.9.7"
  }
 },
 "nbformat": 4,
 "nbformat_minor": 5
}
